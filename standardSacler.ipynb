{
  "nbformat": 4,
  "nbformat_minor": 0,
  "metadata": {
    "colab": {
      "private_outputs": true,
      "provenance": [],
      "mount_file_id": "14PJ2xCp-vsvAM1362danUzawPpY-Fu3R",
      "authorship_tag": "ABX9TyOVFkK9C/9ccCm/NYfA11kI",
      "include_colab_link": true
    },
    "kernelspec": {
      "name": "python3",
      "display_name": "Python 3"
    },
    "language_info": {
      "name": "python"
    }
  },
  "cells": [
    {
      "cell_type": "markdown",
      "metadata": {
        "id": "view-in-github",
        "colab_type": "text"
      },
      "source": [
        "<a href=\"https://colab.research.google.com/github/beyondurexpectation/Descent-gradient-algorithm/blob/main/standardSacler.ipynb\" target=\"_parent\"><img src=\"https://colab.research.google.com/assets/colab-badge.svg\" alt=\"Open In Colab\"/></a>"
      ]
    },
    {
      "cell_type": "code",
      "execution_count": null,
      "metadata": {
        "id": "GsdM6Vu3J6wv"
      },
      "outputs": [],
      "source": [
        "import pandas as pd\n",
        "import numpy as np\n",
        "from numpy import math\n",
        "from matplotlib import pyplot as plt\n",
        "from sklearn.preprocessing import StandardScaler\n",
        "from sklearn.preprocessing import MinMaxScaler\n",
        "from sklearn.linear_model import LinearRegression\n",
        "from sklearn.metrics import r2_score\n",
        "from sklearn.metrics import mean_squared_error\n",
        "from sklearn.model_selection import train_test_split\n"
      ]
    },
    {
      "cell_type": "markdown",
      "source": [
        "# New Section"
      ],
      "metadata": {
        "id": "VOAgxIgp5QbH"
      }
    },
    {
      "cell_type": "code",
      "source": [
        "#importing data in  to colab fro the analysis\n",
        "data=pd.read_csv(r'/content/drive/MyDrive/alma better/50_Startups.csv')"
      ],
      "metadata": {
        "id": "3sNXKk-FKo6B"
      },
      "execution_count": null,
      "outputs": []
    },
    {
      "cell_type": "code",
      "source": [
        "data"
      ],
      "metadata": {
        "id": "xKTFuPrfLiPs"
      },
      "execution_count": null,
      "outputs": []
    },
    {
      "cell_type": "code",
      "source": [
        "#analysis dependent and independent variable in data set\n",
        "plt.scatter(data['R&D Spend'],data['Profit'],alpha=1)\n",
        "plt.title(\"Profit analysis on the basis of R&D spend\")\n",
        "plt.xlabel(\"R&D spend\")\n",
        "plt.ylabel(\"profit earned\")"
      ],
      "metadata": {
        "id": "SZITcv5qLnBG"
      },
      "execution_count": null,
      "outputs": []
    },
    {
      "cell_type": "code",
      "source": [
        "plt.scatter(data['Administration'],data['Profit'],alpha=1)\n",
        "plt.title(\"Profit analysis on the basis of Admin spend\")\n",
        "plt.xlabel(\"Admin spend\")\n",
        "plt.ylabel(\"profit earned\")"
      ],
      "metadata": {
        "id": "Bjg9grNzMOnR"
      },
      "execution_count": null,
      "outputs": []
    },
    {
      "cell_type": "code",
      "source": [
        "plt.scatter(data['Marketing Spend'],data['Profit'],alpha=1)\n",
        "plt.title(\"Profit analysis on the basis of Marketspend\")\n",
        "plt.xlabel(\"Market  spend\")\n",
        "plt.ylabel(\"profit earned\")"
      ],
      "metadata": {
        "id": "BQNYZYe5MeUZ"
      },
      "execution_count": null,
      "outputs": []
    },
    {
      "cell_type": "code",
      "source": [
        "#analysising data state wise\n",
        "data.groupby(['State'])['Profit'].mean().plot.bar(figsize=(10,8),fontsize=8)"
      ],
      "metadata": {
        "id": "VWezyiPVMsch"
      },
      "execution_count": null,
      "outputs": []
    },
    {
      "cell_type": "code",
      "source": [
        "#startup in calofornia are making less profit\n"
      ],
      "metadata": {
        "id": "eXBiu_bONAPz"
      },
      "execution_count": null,
      "outputs": []
    },
    {
      "cell_type": "code",
      "source": [],
      "metadata": {
        "id": "sHcPbMGiOLe5"
      },
      "execution_count": null,
      "outputs": []
    },
    {
      "cell_type": "code",
      "source": [
        "#filtering data to train our data set\\\n",
        "data['State'].value_counts()"
      ],
      "metadata": {
        "id": "M9tn8eoYNMjz"
      },
      "execution_count": null,
      "outputs": []
    },
    {
      "cell_type": "code",
      "source": [
        "data['Newyork_State']=np.where(data['State']=='Newyork',1,0)\n",
        "data['California_State']=np.where(data['State']=='California',1,0)\n",
        "data['Florida_State']=np.where(data['State']=='Florida',1,0)"
      ],
      "metadata": {
        "id": "ztc_xaOINsiS"
      },
      "execution_count": null,
      "outputs": []
    },
    {
      "cell_type": "code",
      "source": [
        "data.drop(columns='State',axis=0,inplace=True)"
      ],
      "metadata": {
        "id": "0TJRXb1XNcmF"
      },
      "execution_count": null,
      "outputs": []
    },
    {
      "cell_type": "code",
      "source": [
        "data"
      ],
      "metadata": {
        "id": "_2KGTxSTOeYV"
      },
      "execution_count": null,
      "outputs": []
    },
    {
      "cell_type": "code",
      "source": [
        "#categorsing dependent and independent variable\n",
        "dependent_variable='Profit'\n",
        "independented_variable=list(set(data.columns.tolist())-{dependent_variable})\n",
        "independented_variable"
      ],
      "metadata": {
        "id": "hbUIgg1nOlp0"
      },
      "execution_count": null,
      "outputs": []
    },
    {
      "cell_type": "code",
      "source": [
        "data[independented_variable].values"
      ],
      "metadata": {
        "id": "h5Hxg205O7iH"
      },
      "execution_count": null,
      "outputs": []
    },
    {
      "cell_type": "code",
      "source": [
        "X=data[independented_variable].values\n",
        "X"
      ],
      "metadata": {
        "id": "Ux2BaCw_PVuS"
      },
      "execution_count": null,
      "outputs": []
    },
    {
      "cell_type": "code",
      "source": [
        "y=data[dependent_variable].values\n",
        "y"
      ],
      "metadata": {
        "id": "giLvVkhlPpL6"
      },
      "execution_count": null,
      "outputs": []
    },
    {
      "cell_type": "code",
      "source": [
        "data[independented_variable]"
      ],
      "metadata": {
        "id": "km_cmuegYV1C"
      },
      "execution_count": null,
      "outputs": []
    },
    {
      "cell_type": "code",
      "source": [
        "#spliting data in to train data and test data\n",
        "X_train,X_test,y_train,y_test=train_test_split(X,y,test_size=.2,random_state=0)\n",
        "X_train[0:10]"
      ],
      "metadata": {
        "id": "MYNBl5hzPza2"
      },
      "execution_count": null,
      "outputs": []
    },
    {
      "cell_type": "code",
      "source": [
        "Scaler=MinMaxScaler()\n",
        "X_train=Scaler.fit_transform(X_train)"
      ],
      "metadata": {
        "id": "p-GXFAwPQdyP"
      },
      "execution_count": null,
      "outputs": []
    },
    {
      "cell_type": "code",
      "source": [
        "X_train[0:10]"
      ],
      "metadata": {
        "id": "z9yqK8wCQ6Zn"
      },
      "execution_count": null,
      "outputs": []
    },
    {
      "cell_type": "code",
      "source": [
        "reg=LinearRegression()\n",
        "reg.fit(X_train,y_train)"
      ],
      "metadata": {
        "id": "w7gbbZhOS7J8"
      },
      "execution_count": null,
      "outputs": []
    },
    {
      "cell_type": "code",
      "source": [
        "reg.intercept_"
      ],
      "metadata": {
        "id": "mSTzOr0xTLQz"
      },
      "execution_count": null,
      "outputs": []
    },
    {
      "cell_type": "code",
      "source": [
        "reg.coef_"
      ],
      "metadata": {
        "id": "trDdcSgbTX0I"
      },
      "execution_count": null,
      "outputs": []
    },
    {
      "cell_type": "code",
      "source": [
        "y_train"
      ],
      "metadata": {
        "id": "6vs7FdDMTigP"
      },
      "execution_count": null,
      "outputs": []
    },
    {
      "cell_type": "code",
      "source": [
        "y_train_predict=reg.predict(X_train)"
      ],
      "metadata": {
        "id": "34AhIugET0wj"
      },
      "execution_count": null,
      "outputs": []
    },
    {
      "cell_type": "code",
      "source": [
        "y_train_predict"
      ],
      "metadata": {
        "id": "430r_TagT7aW"
      },
      "execution_count": null,
      "outputs": []
    },
    {
      "cell_type": "code",
      "source": [
        "y_predict=reg.predict(X_test)\n",
        "y_predict"
      ],
      "metadata": {
        "id": "M8qEX-1JT90I"
      },
      "execution_count": null,
      "outputs": []
    },
    {
      "cell_type": "code",
      "source": [
        "mean_squared_error(y_train,y_train_predict)"
      ],
      "metadata": {
        "id": "8Sj7IJbyUlzV"
      },
      "execution_count": null,
      "outputs": []
    },
    {
      "cell_type": "code",
      "source": [
        "math.sqrt(mean_squared_error(y_train,y_train_predict))"
      ],
      "metadata": {
        "id": "CIUz00t-UxJH"
      },
      "execution_count": null,
      "outputs": []
    },
    {
      "cell_type": "code",
      "source": [
        "math.sqrt(mean_squared_error(y_test,y_predict))"
      ],
      "metadata": {
        "id": "HZO6KIGYVJag"
      },
      "execution_count": null,
      "outputs": []
    },
    {
      "cell_type": "code",
      "source": [
        "r2_score(y_train,y_train_predict)"
      ],
      "metadata": {
        "id": "qtzSerXzVWWV"
      },
      "execution_count": null,
      "outputs": []
    },
    {
      "cell_type": "code",
      "source": [
        "r2_score(y_test,y_predict)"
      ],
      "metadata": {
        "id": "0YXXZ2ayV5rI"
      },
      "execution_count": null,
      "outputs": []
    },
    {
      "cell_type": "code",
      "source": [],
      "metadata": {
        "id": "qFou2QGRV9U7"
      },
      "execution_count": null,
      "outputs": []
    }
  ]
}